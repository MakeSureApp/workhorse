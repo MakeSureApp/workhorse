{
 "cells": [
  {
   "cell_type": "code",
   "execution_count": 9,
   "metadata": {},
   "outputs": [
    {
     "data": {
      "text/plain": [
       "['Chlamydia', 'Gonococcus', 'Hepatitis', 'HIV', 'Syphilis']"
      ]
     },
     "execution_count": 9,
     "metadata": {},
     "output_type": "execute_result"
    }
   ],
   "source": [
    "import os\n",
    "\n",
    "il_folders = os.listdir(\"data\")\n",
    "il_folders"
   ]
  },
  {
   "cell_type": "code",
   "execution_count": 6,
   "metadata": {},
   "outputs": [
    {
     "name": "stdout",
     "output_type": "stream",
     "text": [
      "['Failure', 'Negative', 'Positive']\n",
      "['Failure', 'Negative', 'Positive']\n",
      "['Failure', 'Negative', 'Positive']\n",
      "['Failure', 'Negative', 'Positive']\n",
      "['Failure', 'Negative', 'Positive']\n"
     ]
    }
   ],
   "source": [
    "\n",
    "def refactor_data(il_folders):\n",
    "    for folder in il_folders:\n",
    "        results = os.listdir(f\"data/{folder}\")\n",
    "        print(results)\n",
    "\n",
    "refactor_data(il_folders)"
   ]
  },
  {
   "cell_type": "code",
   "execution_count": 8,
   "metadata": {},
   "outputs": [
    {
     "data": {
      "text/plain": [
       "112"
      ]
     },
     "execution_count": 8,
     "metadata": {},
     "output_type": "execute_result"
    }
   ],
   "source": [
    "import glob\n",
    "onlyimages = glob.glob(\"data/*/*/*/*.jpg\")\n",
    "len(onlyimages)"
   ]
  },
  {
   "cell_type": "code",
   "execution_count": null,
   "metadata": {},
   "outputs": [],
   "source": []
  }
 ],
 "metadata": {
  "kernelspec": {
   "display_name": "Python 3",
   "language": "python",
   "name": "python3"
  },
  "language_info": {
   "codemirror_mode": {
    "name": "ipython",
    "version": 3
   },
   "file_extension": ".py",
   "mimetype": "text/x-python",
   "name": "python",
   "nbconvert_exporter": "python",
   "pygments_lexer": "ipython3",
   "version": "3.9.0"
  },
  "orig_nbformat": 4
 },
 "nbformat": 4,
 "nbformat_minor": 2
}
